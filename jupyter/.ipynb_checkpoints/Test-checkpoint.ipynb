{
 "cells": [
  {
   "cell_type": "code",
   "execution_count": 5,
   "id": "5a3ec79b-ee27-45dc-b803-f496d04970f5",
   "metadata": {},
   "outputs": [
    {
     "name": "stdout",
     "output_type": "stream",
     "text": [
      "caca\n"
     ]
    }
   ],
   "source": [
    "test = \"caca\"\n",
    "print(test)"
   ]
  },
  {
   "cell_type": "code",
   "execution_count": 6,
   "id": "da038212-7848-4e77-8cd6-99bf5a21d25c",
   "metadata": {},
   "outputs": [],
   "source": [
    "test = \"Ok\""
   ]
  },
  {
   "cell_type": "code",
   "execution_count": 7,
   "id": "f57a4ff3-ab86-4a7c-8405-c91323d3f314",
   "metadata": {},
   "outputs": [
    {
     "name": "stdout",
     "output_type": "stream",
     "text": [
      "Ok\n"
     ]
    }
   ],
   "source": [
    "print(test)"
   ]
  }
 ],
 "metadata": {
  "kernelspec": {
   "display_name": "Python 3 (ipykernel)",
   "language": "python",
   "name": "python3"
  },
  "language_info": {
   "codemirror_mode": {
    "name": "ipython",
    "version": 3
   },
   "file_extension": ".py",
   "mimetype": "text/x-python",
   "name": "python",
   "nbconvert_exporter": "python",
   "pygments_lexer": "ipython3",
   "version": "3.10.12"
  }
 },
 "nbformat": 4,
 "nbformat_minor": 5
}
